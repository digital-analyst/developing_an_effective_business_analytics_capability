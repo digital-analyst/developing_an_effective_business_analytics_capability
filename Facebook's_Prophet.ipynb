{
 "cells": [
  {
   "cell_type": "markdown",
   "id": "developed-insider",
   "metadata": {
    "id": "developed-insider"
   },
   "source": [
    "# Chapter 19 - Facebook's Prophet"
   ]
  },
  {
   "cell_type": "markdown",
   "id": "loose-helen",
   "metadata": {
    "id": "loose-helen"
   },
   "source": [
    "## Listing 19-1. Preparing the dependent variable"
   ]
  },
  {
   "cell_type": "code",
   "execution_count": null,
   "id": "unlimited-michael",
   "metadata": {
    "id": "unlimited-michael"
   },
   "outputs": [],
   "source": [
    "import pandas as pd\n",
    "y = pd.read_csv('https://drive.google.com/uc?id=17bLj5NmMBrUEUHrdFPaGGIDjPvIgbnZK', compression='zip')\n",
    "y = y.pivot(index='visit_date', columns='air_store_id')['visitors']\n",
    "y = y.fillna(0)\n",
    "y = pd.DataFrame(y.sum(axis=1))\n"
   ]
  },
  {
   "cell_type": "code",
   "execution_count": null,
   "id": "AK6H8V2bCaZL",
   "metadata": {
    "colab": {
     "base_uri": "https://localhost:8080/",
     "height": 237
    },
    "id": "AK6H8V2bCaZL",
    "outputId": "455563ac-15b1-436f-cfe8-cdcc038e87cb"
   },
   "outputs": [],
   "source": [
    "y.head()"
   ]
  },
  {
   "cell_type": "markdown",
   "id": "sudden-overview",
   "metadata": {
    "id": "sudden-overview"
   },
   "source": [
    "## Listing 19-2. Preparing the modeling data frame"
   ]
  },
  {
   "cell_type": "code",
   "execution_count": null,
   "id": "recorded-industry",
   "metadata": {
    "id": "recorded-industry"
   },
   "outputs": [],
   "source": [
    "y = y.reset_index(drop=False)\n",
    "y.columns = ['ds', 'y']\n"
   ]
  },
  {
   "cell_type": "markdown",
   "id": "basic-hybrid",
   "metadata": {
    "id": "basic-hybrid"
   },
   "source": [
    "## Listing 19-3. Creating a train-test split"
   ]
  },
  {
   "cell_type": "code",
   "execution_count": null,
   "id": "heard-toyota",
   "metadata": {
    "id": "heard-toyota"
   },
   "outputs": [],
   "source": [
    "train = y.iloc[:450,:]\n",
    "test = y.iloc[450:,:]\n"
   ]
  },
  {
   "cell_type": "markdown",
   "id": "recorded-evolution",
   "metadata": {
    "id": "recorded-evolution"
   },
   "source": [
    "## Listing 19-4. Creating a basic Prophet model"
   ]
  },
  {
   "cell_type": "code",
   "execution_count": null,
   "id": "preliminary-latter",
   "metadata": {
    "colab": {
     "base_uri": "https://localhost:8080/"
    },
    "id": "preliminary-latter",
    "outputId": "1d765732-58d2-4059-9f2d-e04bc51aacfc"
   },
   "outputs": [],
   "source": [
    "from prophet import Prophet\n",
    "m = Prophet()\n",
    "m.fit(train)\n"
   ]
  },
  {
   "cell_type": "markdown",
   "id": "tested-protocol",
   "metadata": {
    "id": "tested-protocol"
   },
   "source": [
    "## Listing 19-5. Creating a basic Prophet model"
   ]
  },
  {
   "cell_type": "code",
   "execution_count": null,
   "id": "general-labor",
   "metadata": {
    "id": "general-labor"
   },
   "outputs": [],
   "source": [
    "future = m.make_future_dataframe(periods=len(test))\n",
    "forecast = m.predict(future)\n"
   ]
  },
  {
   "cell_type": "markdown",
   "id": "increasing-affair",
   "metadata": {
    "id": "increasing-affair"
   },
   "source": [
    "## Listing 19-6. Creating a basic Prophet model"
   ]
  },
  {
   "cell_type": "code",
   "execution_count": null,
   "id": "loved-dealer",
   "metadata": {
    "colab": {
     "base_uri": "https://localhost:8080/"
    },
    "id": "loved-dealer",
    "outputId": "f3b3665d-fa3c-45a4-c12c-284818e9262d"
   },
   "outputs": [],
   "source": [
    "from sklearn.metrics import r2_score\n",
    "print(r2_score(list(test['y']), list(forecast.loc[450:,'yhat'] )))\n"
   ]
  },
  {
   "cell_type": "markdown",
   "id": "positive-amendment",
   "metadata": {
    "id": "positive-amendment"
   },
   "source": [
    "## Listing 19-7. Plotting the fit of the model"
   ]
  },
  {
   "cell_type": "code",
   "execution_count": null,
   "id": "offensive-channels",
   "metadata": {
    "colab": {
     "base_uri": "https://localhost:8080/",
     "height": 265
    },
    "id": "offensive-channels",
    "outputId": "1df79314-ab30-472a-8337-afbbecf94d79"
   },
   "outputs": [],
   "source": [
    "import matplotlib.pyplot as plt\n",
    "plt.plot(list(test['y']))\n",
    "plt.plot(list(forecast.loc[450:,'yhat'] ))\n",
    "plt.rcParams['figure.figsize'] = [20, 10]\n",
    "plt.show()\n"
   ]
  },
  {
   "cell_type": "markdown",
   "id": "communist-rugby",
   "metadata": {
    "id": "communist-rugby"
   },
   "source": [
    "## Listing 19-8. Creating a Prophet forecast plot"
   ]
  },
  {
   "cell_type": "code",
   "execution_count": null,
   "id": "stunning-norwegian",
   "metadata": {
    "colab": {
     "base_uri": "https://localhost:8080/",
     "height": 441
    },
    "id": "stunning-norwegian",
    "outputId": "6d0f34a0-ac53-48de-f5ec-8d9bcaf1b05c"
   },
   "outputs": [],
   "source": [
    "from prophet.plot import plot\n",
    "\n",
    "#plot(m, forecast, figsize=(20, 12))\n",
    "\n",
    "fig1 = m.plot(forecast)\n",
    "\n",
    "plt.show()\n"
   ]
  },
  {
   "cell_type": "markdown",
   "id": "duplicate-psychology",
   "metadata": {
    "id": "duplicate-psychology"
   },
   "source": [
    "## Listing 19-9. Creating a Prophet decomposition plot"
   ]
  },
  {
   "cell_type": "code",
   "execution_count": null,
   "id": "arranged-south",
   "metadata": {
    "colab": {
     "base_uri": "https://localhost:8080/",
     "height": 441
    },
    "id": "arranged-south",
    "outputId": "21b6e2fb-ba25-4a49-fa74-60b449d0282c"
   },
   "outputs": [],
   "source": [
    "fig2 = m.plot_components(forecast)\n",
    "plt.show()\n"
   ]
  },
  {
   "cell_type": "markdown",
   "id": "therapeutic-demand",
   "metadata": {
    "id": "therapeutic-demand"
   },
   "source": [
    "## Listing 19-10. Add montly seasonality to the plot"
   ]
  },
  {
   "cell_type": "code",
   "execution_count": null,
   "id": "rising-gallery",
   "metadata": {
    "colab": {
     "base_uri": "https://localhost:8080/",
     "height": 712
    },
    "id": "rising-gallery",
    "outputId": "b48e84ce-78c1-4892-ee04-e7f655cfe8dd"
   },
   "outputs": [],
   "source": [
    "m2 = Prophet()\n",
    "m2.add_seasonality(name='monthly', period=30.5, fourier_order=5)\n",
    "\n",
    "m2.fit(train)\n",
    "\n",
    "future2 = m2.make_future_dataframe(periods=len(test))\n",
    "forecast2 = m2.predict(future)\n",
    "print(r2_score(list(test['y']), list(forecast2.loc[450:,'yhat'] )))\n",
    "\n",
    "fig2 = m2.plot_components(forecast2)\n",
    "plt.show()\n"
   ]
  },
  {
   "cell_type": "markdown",
   "id": "magnetic-steel",
   "metadata": {
    "id": "magnetic-steel"
   },
   "source": [
    "## Listing 19-11. Prepare holidays data"
   ]
  },
  {
   "cell_type": "code",
   "execution_count": null,
   "id": "appropriate-freedom",
   "metadata": {
    "id": "appropriate-freedom"
   },
   "outputs": [],
   "source": [
    "holidays = pd.read_csv('https://drive.google.com/uc?id=1jw5V4noLicmWk-xu8qFzFCPxV5LaQRVB', compression='zip')\n",
    "holidays = holidays[holidays['holiday_flg'] == 1]\n",
    "holidays = holidays[['calendar_date', 'holiday_flg']]\n",
    "holidays = holidays.drop(['holiday_flg'], axis=1)\n",
    "holidays['holiday'] = 'holiday'\n",
    "holidays.columns = ['ds', 'holiday']\n"
   ]
  },
  {
   "cell_type": "markdown",
   "id": "prostate-japan",
   "metadata": {
    "id": "prostate-japan"
   },
   "source": [
    "## Listing 19-12. Add holidays to the model"
   ]
  },
  {
   "cell_type": "code",
   "execution_count": null,
   "id": "three-missile",
   "metadata": {
    "colab": {
     "base_uri": "https://localhost:8080/",
     "height": 712
    },
    "id": "three-missile",
    "outputId": "8c321f74-c795-4de7-a968-500d927f41e5"
   },
   "outputs": [],
   "source": [
    "m3 = Prophet(holidays=holidays)\n",
    "m3.fit(train)\n",
    "future3 = m3.make_future_dataframe(periods=len(test))\n",
    "forecast3 = m3.predict(future)\n",
    "\n",
    "print(r2_score(list(test['y']), list(forecast3.loc[450:,'yhat'] )))\n",
    "\n",
    "fig2 = m3.plot_components(forecast3)\n",
    "plt.show()\n"
   ]
  },
  {
   "cell_type": "markdown",
   "id": "three-boutique",
   "metadata": {
    "id": "three-boutique"
   },
   "source": [
    "## Listing 19-13. Add reservations to the model"
   ]
  },
  {
   "cell_type": "code",
   "execution_count": null,
   "id": "catholic-liberty",
   "metadata": {
    "id": "catholic-liberty"
   },
   "outputs": [],
   "source": [
    "X_reservations = pd.read_csv('https://drive.google.com/uc?id=1XG_wEiSnXhoNi-_NBuHpxJSjRXaZeH4n', compression='zip')\n",
    "X_reservations['visit_date'] = pd.to_datetime(X_reservations['visit_datetime']).dt.date\n",
    "X_reservations = pd.DataFrame(X_reservations.groupby('visit_date')['reserve_visitors'].sum())\n",
    "X_reservations = X_reservations.reset_index(drop = False)\n",
    "train4 = train.copy()\n",
    "train4['ds'] = pd.to_datetime(train4['ds']).dt.date\n",
    "train4 = train4.merge(X_reservations, left_on = 'ds', right_on = 'visit_date', how = 'left')[['ds', 'y', 'reserve_visitors']].fillna(0)\n"
   ]
  },
  {
   "cell_type": "markdown",
   "id": "solid-leeds",
   "metadata": {
    "id": "solid-leeds"
   },
   "source": [
    "## Listing 19-14. Add reservations to the model"
   ]
  },
  {
   "cell_type": "code",
   "execution_count": null,
   "id": "burning-andrews",
   "metadata": {
    "colab": {
     "base_uri": "https://localhost:8080/",
     "height": 1000
    },
    "id": "burning-andrews",
    "outputId": "844e00d6-0b33-4568-d976-d4e6b2589f0c"
   },
   "outputs": [],
   "source": [
    "m4 = Prophet()\n",
    "m4.add_regressor('reserve_visitors')\n",
    "m4.fit(train4)\n",
    "future4 = m4.make_future_dataframe(periods=len(test))\n",
    "future4['ds'] = pd.to_datetime(future4['ds']).dt.date\n",
    "\n",
    "future4 = future4.merge(X_reservations, left_on = 'ds', right_on = 'visit_date', how = 'left')[['ds', 'reserve_visitors']].fillna(0)\n",
    "\n",
    "forecast4 = m4.predict(future4)\n",
    "\n",
    "print(r2_score(list(test['y']), list(forecast4.loc[450:,'yhat'] )))\n",
    "\n",
    "plt.plot(list(test['y']))\n",
    "plt.plot(list(forecast4.loc[450:,'yhat'] ))\n",
    "\n",
    "fig2 = m4.plot_components(forecast4)\n",
    "plt.show()\n"
   ]
  },
  {
   "cell_type": "markdown",
   "id": "comparative-wrist",
   "metadata": {
    "id": "comparative-wrist"
   },
   "source": [
    "## Listing 19-15. Grid Searching the Prophet"
   ]
  },
  {
   "cell_type": "code",
   "execution_count": null,
   "id": "continuous-messenger",
   "metadata": {
    "colab": {
     "base_uri": "https://localhost:8080/"
    },
    "id": "continuous-messenger",
    "outputId": "3ab7e1ff-f4d1-46bc-ef0a-823fdb8e6819"
   },
   "outputs": [],
   "source": [
    "def model_test(holidays, weekly_seasonality,yearly_seasonality, add_monthly, add_reserve, changepoint_prior_scale, holidays_prior_scale, month_fourier):\n",
    "    \n",
    "    m4 = Prophet(\n",
    "          yearly_seasonality=yearly_seasonality, \n",
    "          weekly_seasonality=weekly_seasonality, \n",
    "          holidays=holidays, \n",
    "          changepoint_prior_scale=changepoint_prior_scale, \n",
    "          holidays_prior_scale=holidays_prior_scale)\n",
    "    \n",
    "    if add_monthly:    \n",
    "        m4.add_seasonality(\n",
    "        name='monthly', \n",
    "        period=30.5, \n",
    "        fourier_order=month_fourier)\n",
    "    \n",
    "    if add_reserve:\n",
    "        m4.add_regressor('reserve_visitors')\n",
    "\n",
    "    m4.fit(train4)\n",
    "\n",
    "    future4 = m4.make_future_dataframe(periods=len(test))\n",
    "\n",
    "    future4['ds'] = pd.to_datetime(future4['ds']).dt.date\n",
    "    \n",
    "    if add_reserve:\n",
    "        future4 = future4.merge(\n",
    "            X_reservations, \n",
    "            left_on = 'ds', \n",
    "            right_on = 'visit_date', \n",
    "            how = 'left')\n",
    "        future4 = future4[['ds', 'reserve_visitors']]\n",
    "        future4 = future4.fillna(0)\n",
    "\n",
    "    forecast4 = m4.predict(future4)\n",
    "\n",
    "    return r2_score(\n",
    "              list(test['y']),\n",
    "              list(forecast4.loc[450:,'yhat'] )) \n",
    "# Setting the grid\n",
    "holidays_opt = [holidays, None]\n",
    "weekly_seas = [ 5, 10, 30, 50]\n",
    "yearly_seas = [ 5, 10, 30, 50]\n",
    "add_monthly = [True, False]\n",
    "add_reserve = [True, False]\n",
    "changepoint_prior_scale = [0.1, 0.3, 0.5]\n",
    "holidays_prior_scale = [0.1, 0.3, 0.5]\n",
    "month_fourier = [5, 10, 30, 50]\n",
    "\n",
    "# Looping through the grid\n",
    "grid_results = []\n",
    "for h in holidays_opt:\n",
    "  for w in weekly_seas:\n",
    "    for ys in yearly_seas:\n",
    "      for m in add_monthly:\n",
    "        for r in add_reserve:\n",
    "           for c in changepoint_prior_scale:\n",
    "             for hp in holidays_prior_scale:\n",
    "               for mf in month_fourier:\n",
    "                  r2=model_test(h,w,ys,m,r,c,hp,mf)\n",
    "                  print([w,ys,m,r,c,hp,mf,r2])\n",
    "                  grid_results.append([h,w,ys,m,r,c,hp,mf,r2])\n",
    "\n",
    "# adding it all to a dataframe and extract the best model\n",
    "benchmark = pd.DataFrame(grid_results)\n",
    "benchmark = benchmark.sort_values(8, ascending=False)\n",
    "\n",
    "h, w,ys, m, r, c,hp,mf,r2 = list(benchmark.iloc[0,:])\n",
    "\n",
    "# Fit the Prophet with those best hyperparameters\n",
    "m4 = Prophet(\n",
    "          yearly_seasonality=ys, \n",
    "          weekly_seasonality=w, \n",
    "          holidays=h, \n",
    "          changepoint_prior_scale=c, \n",
    "          holidays_prior_scale=hp)\n",
    "    \n",
    "if m:    \n",
    "    m4.add_seasonality(\n",
    "        name='monthly', \n",
    "        period=30.5, \n",
    "        fourier_order=mf)\n",
    "\n",
    "if r:\n",
    "    m4.add_regressor('reserve_visitors')\n",
    "\n",
    "m4.fit(train4)\n",
    "\n",
    "future4 = m4.make_future_dataframe(periods=len(test))\n",
    "\n",
    "future4['ds'] = pd.to_datetime(future4['ds']).dt.date\n",
    "\n",
    "if r:\n",
    "    future4 = future4.merge(\n",
    "                X_reservations, \n",
    "                left_on = 'ds', \n",
    "                right_on = 'visit_date', \n",
    "                how = 'left')\n",
    "    future4 = future4[['ds', 'reserve_visitors']]\n",
    "    future4 = future4.fillna(0)\n",
    "\n",
    "forecast4 = m4.predict(future4)\n"
   ]
  },
  {
   "cell_type": "code",
   "execution_count": null,
   "id": "9e9b3893",
   "metadata": {},
   "outputs": [],
   "source": []
  }
 ],
 "metadata": {
  "accelerator": "GPU",
  "colab": {
   "collapsed_sections": [],
   "name": "Copy of Chapter 19 - Facebook's Prophet.ipynb",
   "provenance": []
  },
  "kernelspec": {
   "display_name": "nb3712",
   "language": "python",
   "name": "nb3712"
  },
  "language_info": {
   "codemirror_mode": {
    "name": "ipython",
    "version": 3
   },
   "file_extension": ".py",
   "mimetype": "text/x-python",
   "name": "python",
   "nbconvert_exporter": "python",
   "pygments_lexer": "ipython3",
   "version": "3.7.12"
  }
 },
 "nbformat": 4,
 "nbformat_minor": 5
}
