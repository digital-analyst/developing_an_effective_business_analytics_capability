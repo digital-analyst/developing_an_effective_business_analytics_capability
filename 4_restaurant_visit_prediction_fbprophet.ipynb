{
 "cells": [
  {
   "cell_type": "markdown",
   "id": "developed-insider",
   "metadata": {
    "id": "developed-insider"
   },
   "source": [
    "# Predict restaurant visitor using Facebook Prophet"
   ]
  },
  {
   "cell_type": "markdown",
   "id": "loose-helen",
   "metadata": {
    "id": "loose-helen"
   },
   "source": [
    "## 1. Import dataset"
   ]
  },
  {
   "cell_type": "markdown",
   "id": "a358f886",
   "metadata": {},
   "source": [
    "> **We download our dataset from Kaggle's competition: https://www.kaggle.com/c/recruit-restaurant-visitor-forecasting**"
   ]
  },
  {
   "cell_type": "code",
   "execution_count": null,
   "id": "unlimited-michael",
   "metadata": {
    "id": "unlimited-michael"
   },
   "outputs": [],
   "source": [
    "import pandas as pd\n",
    "y0 = pd.read_csv('https://drive.google.com/uc?id=17bLj5NmMBrUEUHrdFPaGGIDjPvIgbnZK', compression='zip')\n",
    "y1 = y0.pivot(index='visit_date', columns='air_store_id')['visitors']\n",
    "y2 = y1.fillna(0)\n",
    "y = pd.DataFrame(y2.sum(axis=1))\n"
   ]
  },
  {
   "cell_type": "code",
   "execution_count": null,
   "id": "AK6H8V2bCaZL",
   "metadata": {
    "colab": {
     "base_uri": "https://localhost:8080/",
     "height": 237
    },
    "id": "AK6H8V2bCaZL",
    "outputId": "455563ac-15b1-436f-cfe8-cdcc038e87cb"
   },
   "outputs": [],
   "source": [
    "y.head()"
   ]
  },
  {
   "cell_type": "markdown",
   "id": "sudden-overview",
   "metadata": {
    "id": "sudden-overview"
   },
   "source": [
    "## 2. Transform dataset to the required format"
   ]
  },
  {
   "cell_type": "code",
   "execution_count": null,
   "id": "recorded-industry",
   "metadata": {
    "id": "recorded-industry"
   },
   "outputs": [],
   "source": [
    "y = y.reset_index(drop=False)\n",
    "y.columns = ['ds', 'y']\n",
    "y.dropna()\n",
    "y.head()"
   ]
  },
  {
   "cell_type": "code",
   "execution_count": null,
   "id": "1b70553a",
   "metadata": {
    "pycharm": {
     "name": "#%%\n"
    }
   },
   "outputs": [],
   "source": [
    "y.info()"
   ]
  },
  {
   "cell_type": "markdown",
   "id": "basic-hybrid",
   "metadata": {
    "id": "basic-hybrid"
   },
   "source": [
    "## 3. Creating a train-test split"
   ]
  },
  {
   "cell_type": "code",
   "execution_count": null,
   "id": "heard-toyota",
   "metadata": {
    "id": "heard-toyota"
   },
   "outputs": [],
   "source": [
    "train = y.iloc[:450,:]\n",
    "test = y.iloc[450:,:]\n"
   ]
  },
  {
   "cell_type": "markdown",
   "id": "recorded-evolution",
   "metadata": {
    "id": "recorded-evolution"
   },
   "source": [
    "## 4. Train Prophet model"
   ]
  },
  {
   "cell_type": "code",
   "execution_count": null,
   "id": "preliminary-latter",
   "metadata": {
    "colab": {
     "base_uri": "https://localhost:8080/"
    },
    "id": "preliminary-latter",
    "outputId": "1d765732-58d2-4059-9f2d-e04bc51aacfc"
   },
   "outputs": [],
   "source": [
    "if 'google.colab' in str(get_ipython()):\n",
    "    from fbprophet import Prophet\n",
    "else:\n",
    "    from prophet import Prophet\n",
    "\n",
    "import os\n",
    "# Define a context manager to suppress stdout and stderr.\n",
    "class suppress_stdout_stderr(object):\n",
    "    '''\n",
    "    A context manager for doing a \"deep suppression\" of stdout and stderr in\n",
    "    Python, i.e. will suppress all print, even if the print originates in a\n",
    "    compiled C/Fortran sub-function.\n",
    "       This will not suppress raised exceptions, since exceptions are printed\n",
    "    to stderr just before a script exits, and after the context manager has\n",
    "    exited (at least, I think that is why it lets exceptions through).\n",
    "\n",
    "    '''\n",
    "    def __init__(self):\n",
    "        # Open a pair of null files\n",
    "        self.null_fds =  [os.open(os.devnull,os.O_RDWR) for x in range(2)]\n",
    "        # Save the actual stdout (1) and stderr (2) file descriptors.\n",
    "        self.save_fds = [os.dup(1), os.dup(2)]\n",
    "\n",
    "    def __enter__(self):\n",
    "        # Assign the null pointers to stdout and stderr.\n",
    "        os.dup2(self.null_fds[0],1)\n",
    "        os.dup2(self.null_fds[1],2)\n",
    "\n",
    "    def __exit__(self, *_):\n",
    "        # Re-assign the real stdout/stderr back to (1) and (2)\n",
    "        os.dup2(self.save_fds[0],1)\n",
    "        os.dup2(self.save_fds[1],2)\n",
    "        # Close all file descriptors\n",
    "        for fd in self.null_fds + self.save_fds:\n",
    "            os.close(fd)\n",
    "\n",
    "with suppress_stdout_stderr():\n",
    "    m = Prophet()\n",
    "    m.fit(train)\n"
   ]
  },
  {
   "cell_type": "markdown",
   "id": "tested-protocol",
   "metadata": {
    "id": "tested-protocol"
   },
   "source": [
    "## 5. Run prediction using Prophet model above"
   ]
  },
  {
   "cell_type": "code",
   "execution_count": null,
   "id": "general-labor",
   "metadata": {
    "id": "general-labor"
   },
   "outputs": [],
   "source": [
    "#future = m.make_future_dataframe(periods=len(test))\n",
    "future = y.copy()\n",
    "future.drop('y', inplace=True, axis=1)\n",
    "forecast = m.predict(future)\n"
   ]
  },
  {
   "cell_type": "markdown",
   "id": "increasing-affair",
   "metadata": {
    "id": "increasing-affair"
   },
   "source": [
    "## 6. Calculate R2 score"
   ]
  },
  {
   "cell_type": "code",
   "execution_count": null,
   "id": "loved-dealer",
   "metadata": {
    "colab": {
     "base_uri": "https://localhost:8080/"
    },
    "id": "loved-dealer",
    "outputId": "f3b3665d-fa3c-45a4-c12c-284818e9262d"
   },
   "outputs": [],
   "source": [
    "from sklearn.metrics import r2_score\n",
    "print(r2_score(list(test['y']), list(forecast.loc[450:,'yhat'] )))\n"
   ]
  },
  {
   "cell_type": "markdown",
   "id": "positive-amendment",
   "metadata": {
    "id": "positive-amendment"
   },
   "source": [
    "## 7. Plotting the fit of the model"
   ]
  },
  {
   "cell_type": "code",
   "execution_count": null,
   "id": "offensive-channels",
   "metadata": {
    "colab": {
     "base_uri": "https://localhost:8080/",
     "height": 265
    },
    "id": "offensive-channels",
    "outputId": "1df79314-ab30-472a-8337-afbbecf94d79"
   },
   "outputs": [],
   "source": [
    "import matplotlib.pyplot as plt\n",
    "plt.rcParams['figure.figsize'] = (20, 10)\n",
    "plt.plot(list(test['y']), 'red')\n",
    "plt.plot(list(forecast.loc[450:,'yhat']), \"cyan\")\n",
    "plt.show()\n"
   ]
  },
  {
   "cell_type": "markdown",
   "id": "communist-rugby",
   "metadata": {
    "id": "communist-rugby"
   },
   "source": [
    "## 8. Creating a Prophet forecast plot"
   ]
  },
  {
   "cell_type": "code",
   "execution_count": null,
   "id": "stunning-norwegian",
   "metadata": {
    "colab": {
     "base_uri": "https://localhost:8080/",
     "height": 441
    },
    "id": "stunning-norwegian",
    "outputId": "6d0f34a0-ac53-48de-f5ec-8d9bcaf1b05c"
   },
   "outputs": [],
   "source": [
    "if 'google.colab' in str(get_ipython()):\n",
    "    from fbprophet.plot import add_changepoints_to_plot\n",
    "else: \n",
    "    from prophet.plot import add_changepoints_to_plot\n",
    "#from prophet.plot import plot_plotly, plot_components_plotly\n",
    "\n",
    "#plot_components_plotly(m, forecast)\n",
    "fig1 = m.plot(forecast,  figsize=(20, 12))\n",
    "a = add_changepoints_to_plot(fig1.gca(), m, forecast)\n",
    "\n",
    "#plt.show()\n"
   ]
  },
  {
   "cell_type": "markdown",
   "id": "duplicate-psychology",
   "metadata": {
    "id": "duplicate-psychology"
   },
   "source": [
    "## 9. Creating a Prophet decomposition plot"
   ]
  },
  {
   "cell_type": "code",
   "execution_count": null,
   "id": "arranged-south",
   "metadata": {
    "colab": {
     "base_uri": "https://localhost:8080/",
     "height": 441
    },
    "id": "arranged-south",
    "outputId": "21b6e2fb-ba25-4a49-fa74-60b449d0282c"
   },
   "outputs": [],
   "source": [
    "fig2 = m.plot_components(forecast, figsize=(20, 12))\n",
    "plt.show()\n"
   ]
  },
  {
   "cell_type": "markdown",
   "id": "therapeutic-demand",
   "metadata": {
    "id": "therapeutic-demand"
   },
   "source": [
    "## 10. Add montly seasonality to the plot"
   ]
  },
  {
   "cell_type": "code",
   "execution_count": null,
   "id": "rising-gallery",
   "metadata": {
    "colab": {
     "base_uri": "https://localhost:8080/",
     "height": 712
    },
    "id": "rising-gallery",
    "outputId": "b48e84ce-78c1-4892-ee04-e7f655cfe8dd"
   },
   "outputs": [],
   "source": [
    "m2 = Prophet()\n",
    "m2.add_seasonality(name='monthly', period=30.5, fourier_order=5)\n",
    "\n",
    "with suppress_stdout_stderr():\n",
    "    m2.fit(train)\n",
    "\n",
    "future2 = y.copy()\n",
    "forecast2 = m2.predict(future)\n",
    "print(r2_score(list(test['y']), list(forecast2.loc[450:,'yhat'] )))\n",
    "\n",
    "fig2 = m2.plot_components(forecast2, figsize=(20, 12))\n",
    "plt.show()\n"
   ]
  },
  {
   "cell_type": "markdown",
   "id": "magnetic-steel",
   "metadata": {
    "id": "magnetic-steel"
   },
   "source": [
    "## 11. Prepare holidays data"
   ]
  },
  {
   "cell_type": "code",
   "execution_count": null,
   "id": "appropriate-freedom",
   "metadata": {
    "id": "appropriate-freedom"
   },
   "outputs": [],
   "source": [
    "holidays = pd.read_csv('https://drive.google.com/uc?id=1jw5V4noLicmWk-xu8qFzFCPxV5LaQRVB', compression='zip')\n",
    "holidays = holidays[holidays['holiday_flg'] == 1]\n",
    "holidays = holidays[['calendar_date', 'holiday_flg']]\n",
    "holidays = holidays.drop(['holiday_flg'], axis=1)\n",
    "holidays['holiday'] = 'holiday'\n",
    "holidays.columns = ['ds', 'holiday']"
   ]
  },
  {
   "cell_type": "markdown",
   "id": "prostate-japan",
   "metadata": {
    "id": "prostate-japan"
   },
   "source": [
    "## 12. Add holidays to the model"
   ]
  },
  {
   "cell_type": "code",
   "execution_count": null,
   "id": "three-missile",
   "metadata": {
    "colab": {
     "base_uri": "https://localhost:8080/",
     "height": 712
    },
    "id": "three-missile",
    "outputId": "8c321f74-c795-4de7-a968-500d927f41e5"
   },
   "outputs": [],
   "source": [
    "m3 = Prophet(holidays=holidays)\n",
    "with suppress_stdout_stderr():\n",
    "    m3.fit(train)\n",
    "future3 =y.copy()\n",
    "forecast3 = m3.predict(future)\n",
    "\n",
    "print(r2_score(list(test['y']), list(forecast3.loc[450:,'yhat'] )))\n",
    "#plot_components_plotly(m3, forecast3)\n",
    "fig2 = m3.plot_components(forecast3, figsize=(20, 12))\n",
    "plt.show()\n"
   ]
  },
  {
   "cell_type": "markdown",
   "id": "three-boutique",
   "metadata": {
    "id": "three-boutique"
   },
   "source": [
    "## 13. Add reservations to the model"
   ]
  },
  {
   "cell_type": "code",
   "execution_count": null,
   "id": "catholic-liberty",
   "metadata": {
    "id": "catholic-liberty"
   },
   "outputs": [],
   "source": [
    "X_reservations = pd.read_csv('https://drive.google.com/uc?id=1XG_wEiSnXhoNi-_NBuHpxJSjRXaZeH4n', compression='zip')\n",
    "X_reservations['visit_date'] = pd.to_datetime(X_reservations['visit_datetime']).dt.date\n",
    "X_reservations = pd.DataFrame(X_reservations.groupby('visit_date')['reserve_visitors'].sum())\n",
    "X_reservations = X_reservations.reset_index(drop = False)\n",
    "train4 = train.copy()\n",
    "train4['ds'] = pd.to_datetime(train4['ds']).dt.date\n",
    "train4 = train4.merge(X_reservations, left_on = 'ds', right_on = 'visit_date', how = 'left')[['ds', 'y', 'reserve_visitors']].fillna(0)"
   ]
  },
  {
   "cell_type": "markdown",
   "id": "solid-leeds",
   "metadata": {
    "id": "solid-leeds"
   },
   "source": [
    "## 14. Add reservations to the model"
   ]
  },
  {
   "cell_type": "code",
   "execution_count": null,
   "id": "ba9a9512",
   "metadata": {
    "pycharm": {
     "name": "#%%\n"
    }
   },
   "outputs": [],
   "source": [
    "m4 = Prophet(holidays=holidays)\n",
    "m4.add_regressor('reserve_visitors')\n",
    "with suppress_stdout_stderr():\n",
    "    m4.fit(train4)\n",
    "future4 = m4.make_future_dataframe(periods=len(test))\n",
    "future4['ds'] = pd.to_datetime(future4['ds']).dt.date\n",
    "\n",
    "future4 = future4.merge(X_reservations, left_on = 'ds', right_on = 'visit_date', how = 'left')[['ds', 'reserve_visitors']].fillna(0)\n",
    "forecast4 = m4.predict(future4)\n",
    "print(r2_score(list(test['y']), list(forecast4.loc[450:,'yhat'] )))\n",
    "\n",
    "plt.plot(list(test['y']), 'red')\n",
    "plt.plot(list(forecast4.loc[450:,'yhat']), 'cyan')\n",
    "\n",
    "fig2 = m4.plot_components(forecast4, figsize=(20, 12))\n",
    "plt.show()"
   ]
  },
  {
   "cell_type": "code",
   "execution_count": null,
   "id": "a96f9cee",
   "metadata": {},
   "outputs": [],
   "source": [
    "fig4 = m4.plot(forecast,  figsize=(20, 12))\n",
    "a = add_changepoints_to_plot(fig4.gca(), m4, forecast4)\n"
   ]
  },
  {
   "cell_type": "markdown",
   "id": "d3e9c01f",
   "metadata": {},
   "source": [
    "## 15. Comparison of R2 scores "
   ]
  },
  {
   "cell_type": "markdown",
   "id": "05437dc3",
   "metadata": {
    "pycharm": {
     "name": "#%% md\n"
    }
   },
   "source": [
    "\n",
    "<div>\n",
    "<img src=\"https://drive.google.com/uc?id=19YMWQ_8pqOo3QHtf66gGWbtEQ3XUeO0u\" width=\"400\" length=\"200\"/>\n",
    "</div>"
   ]
  },
  {
   "cell_type": "markdown",
   "id": "a4607468",
   "metadata": {},
   "source": [
    "## 16. Grid Searching the Prophet"
   ]
  },
  {
   "cell_type": "markdown",
   "id": "7948d5c6",
   "metadata": {},
   "source": [
    "> **List of hyper-parameters that may or may not be tuned by the user:\n",
    "https://facebook.github.io/prophet/docs/diagnostics.html**"
   ]
  },
  {
   "cell_type": "code",
   "execution_count": null,
   "id": "continuous-messenger",
   "metadata": {
    "colab": {
     "base_uri": "https://localhost:8080/"
    },
    "id": "continuous-messenger",
    "outputId": "3ab7e1ff-f4d1-46bc-ef0a-823fdb8e6819"
   },
   "outputs": [],
   "source": [
    "def model_test(holidays, weekly_seasonality,yearly_seasonality, add_monthly, add_reserve, changepoint_prior_scale, holidays_prior_scale, month_fourier):\n",
    "    \n",
    "    m4 = Prophet(\n",
    "          yearly_seasonality=yearly_seasonality, \n",
    "          weekly_seasonality=weekly_seasonality, \n",
    "          holidays=holidays, \n",
    "          changepoint_prior_scale=changepoint_prior_scale, \n",
    "          holidays_prior_scale=holidays_prior_scale)\n",
    "    \n",
    "    if add_monthly:    \n",
    "        m4.add_seasonality(\n",
    "        name='monthly', \n",
    "        period=30.5, \n",
    "        fourier_order=month_fourier)\n",
    "    \n",
    "    if add_reserve:\n",
    "        m4.add_regressor('reserve_visitors')\n",
    "\n",
    "    with suppress_stdout_stderr():\n",
    "        m4.fit(train4)\n",
    "\n",
    "    future4 = m4.make_future_dataframe(periods=len(test))\n",
    "\n",
    "    future4['ds'] = pd.to_datetime(future4['ds']).dt.date\n",
    "    \n",
    "    if add_reserve:\n",
    "        future4 = future4.merge(\n",
    "            X_reservations, \n",
    "            left_on = 'ds', \n",
    "            right_on = 'visit_date', \n",
    "            how = 'left')\n",
    "        future4 = future4[['ds', 'reserve_visitors']]\n",
    "        future4 = future4.fillna(0)\n",
    "\n",
    "    forecast4 = m4.predict(future4)\n",
    "\n",
    "    return r2_score(\n",
    "              list(test['y']),\n",
    "              list(forecast4.loc[450:,'yhat'] )) \n",
    "# Setting the grid\n",
    "holidays_opt = [holidays, None]\n",
    "weekly_seas = [ 5, 10, 30, 50]\n",
    "yearly_seas = [ 5, 10, 30, 50]\n",
    "add_monthly = [True, False]\n",
    "add_reserve = [True, False]\n",
    "changepoint_prior_scale = [0.1, 0.3, 0.5]\n",
    "holidays_prior_scale = [0.1, 0.3, 0.5]\n",
    "month_fourier = [5, 10, 30, 50]\n",
    "\n",
    "# Looping through the grid\n",
    "grid_results = []\n",
    "for h in holidays_opt:\n",
    "  for w in weekly_seas:\n",
    "    for ys in yearly_seas:\n",
    "      for m in add_monthly:\n",
    "        for r in add_reserve:\n",
    "           for c in changepoint_prior_scale:\n",
    "             for hp in holidays_prior_scale:\n",
    "               for mf in month_fourier:\n",
    "                  r2=model_test(h,w,ys,m,r,c,hp,mf)\n",
    "                  print([w,ys,m,r,c,hp,mf,r2])\n",
    "                  grid_results.append([h,w,ys,m,r,c,hp,mf,r2])\n",
    "\n",
    "# adding it all to a dataframe and extract the best model\n",
    "benchmark = pd.DataFrame(grid_results)\n",
    "benchmark = benchmark.sort_values(8, ascending=False)\n",
    "\n",
    "h, w,ys, m, r, c,hp,mf,r2 = list(benchmark.iloc[0,:])\n",
    "\n",
    "# Fit the Prophet with those best hyperparameters\n",
    "m4 = Prophet(\n",
    "          yearly_seasonality=ys, \n",
    "          weekly_seasonality=w, \n",
    "          holidays=h, \n",
    "          changepoint_prior_scale=c, \n",
    "          holidays_prior_scale=hp)\n",
    "    \n",
    "if m:    \n",
    "    m4.add_seasonality(\n",
    "        name='monthly', \n",
    "        period=30.5, \n",
    "        fourier_order=mf)\n",
    "\n",
    "if r:\n",
    "    m4.add_regressor('reserve_visitors')\n",
    "\n",
    "with suppress_stdout_stderr():\n",
    "    m4.fit(train4)\n",
    "\n",
    "future4 = m4.make_future_dataframe(periods=len(test))\n",
    "\n",
    "future4['ds'] = pd.to_datetime(future4['ds']).dt.date\n",
    "\n",
    "if r:\n",
    "    future4 = future4.merge(\n",
    "                X_reservations, \n",
    "                left_on = 'ds', \n",
    "                right_on = 'visit_date', \n",
    "                how = 'left')\n",
    "    future4 = future4[['ds', 'reserve_visitors']]\n",
    "    future4 = future4.fillna(0)\n",
    "\n",
    "forecast4 = m4.predict(future4)\n"
   ]
  },
  {
   "cell_type": "code",
   "execution_count": null,
   "id": "9e9b3893",
   "metadata": {},
   "outputs": [],
   "source": []
  }
 ],
 "metadata": {
  "accelerator": "GPU",
  "colab": {
   "collapsed_sections": [],
   "name": "Copy of Chapter 19 - Facebook's Prophet.ipynb",
   "provenance": []
  },
  "kernelspec": {
   "display_name": "nb3712",
   "language": "python",
   "name": "nb3712"
  },
  "language_info": {
   "codemirror_mode": {
    "name": "ipython",
    "version": 3
   },
   "file_extension": ".py",
   "mimetype": "text/x-python",
   "name": "python",
   "nbconvert_exporter": "python",
   "pygments_lexer": "ipython3",
   "version": "3.7.12"
  }
 },
 "nbformat": 4,
 "nbformat_minor": 5
}
