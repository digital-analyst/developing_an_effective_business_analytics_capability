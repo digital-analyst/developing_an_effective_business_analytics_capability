{
 "cells": [
  {
   "cell_type": "markdown",
   "id": "decreased-relation",
   "metadata": {
    "id": "decreased-relation"
   },
   "source": [
    "# # CO<sub>2</sub> Prediction using Linear Regression"
   ]
  },
  {
   "cell_type": "markdown",
   "id": "eUc4MlDsV4ii",
   "metadata": {
    "id": "eUc4MlDsV4ii"
   },
   "source": [
    "<div>\n",
    "<img src=\"https://drive.google.com/uc?id=1ywrWllnwsYXc3mnmcN-CZ97uawU8JLWx\" width=\"800\"/>\n",
    "</div>"
   ]
  },
  {
   "cell_type": "markdown",
   "id": "healthy-command",
   "metadata": {
    "id": "healthy-command"
   },
   "source": [
    "## 1. Importing the data and plotting it"
   ]
  },
  {
   "cell_type": "code",
   "execution_count": null,
   "id": "popular-stupid",
   "metadata": {
    "id": "popular-stupid"
   },
   "outputs": [],
   "source": [
    "import statsmodels.api as sm\n",
    "import pandas as pd\n",
    "import matplotlib.pyplot as plt\n",
    "\n",
    "#plt.figure(figsize=(20,10))\n",
    "plt.rcParams['figure.figsize'] = (20, 10)\n",
    "data = sm.datasets.co2.load_pandas()\n",
    "co2 = data.data\n",
    "co2 = co2.dropna()\n",
    "ax = co2.plot()\n",
    "ax.set_ylabel('CO2 level')\n",
    "display(plt.show())\n"
   ]
  },
  {
   "cell_type": "code",
   "execution_count": null,
   "id": "R3W-IKVbbNmg",
   "metadata": {
    "id": "R3W-IKVbbNmg"
   },
   "outputs": [],
   "source": [
    "co2['time'] = [x for x in co2.index]"
   ]
  },
  {
   "cell_type": "code",
   "execution_count": null,
   "id": "osoxuum4amEz",
   "metadata": {
    "id": "osoxuum4amEz"
   },
   "outputs": [],
   "source": [
    "co2.info()"
   ]
  },
  {
   "cell_type": "code",
   "execution_count": null,
   "id": "Q-5ZLvyIaUnJ",
   "metadata": {
    "id": "Q-5ZLvyIaUnJ"
   },
   "outputs": [],
   "source": [
    "# Create X and y objects\n",
    "X = co2.index.factorize()[0].reshape(-1,1)\n",
    "#X = co2.index.to_pydatetime().reshape(-1,1)\n",
    "y = co2['co2']\n",
    "\n",
    "# Create Train test split\n",
    "from sklearn.model_selection import train_test_split\n",
    "X_train, X_test, y_train, y_test = train_test_split(X, y, test_size=0.20, random_state=12345,shuffle=False)\n",
    "\n",
    "# Fit model\n",
    "from sklearn.linear_model import LinearRegression\n",
    "from sklearn.metrics import r2_score\n",
    "\n",
    "my_lm = LinearRegression()\n",
    "my_lm.fit(X = X_train, y = y_train)\n",
    "\n",
    "train_fcst = my_lm.predict(X_train)\n",
    "test_fcst = my_lm.predict(X_test)\n",
    "\n",
    "train_r2 = r2_score(y_train, train_fcst)\n",
    "test_r2 = r2_score(y_test, test_fcst)\n",
    "\n",
    "print(train_r2, test_r2)\n",
    "\n",
    "# Plot result\n",
    "plt.plot(list(test_fcst), 'green')\n",
    "plt.plot(list(y_test), 'orange')\n",
    "plt.xlabel('Steps into the test set')\n",
    "plt.ylabel('CO2 levels')\n",
    "plt.show()\n"
   ]
  },
  {
   "cell_type": "markdown",
   "id": "a2c1d138",
   "metadata": {},
   "source": [
    "### What is R-Squared or R2 score?"
   ]
  },
  {
   "cell_type": "markdown",
   "id": "f766800d",
   "metadata": {},
   "source": [
    "<div>\n",
    "<img src=\"https://drive.google.com/uc?id=1HFaARD67ASxb1vrWPP_pWBIyZkiDEwcU\" width=\"800\"/>\n",
    "</div>"
   ]
  },
  {
   "cell_type": "markdown",
   "id": "dimensional-collect",
   "metadata": {
    "id": "dimensional-collect"
   },
   "source": [
    "## 2. Creating the variable month"
   ]
  },
  {
   "cell_type": "code",
   "execution_count": null,
   "id": "ready-episode",
   "metadata": {
    "id": "ready-episode"
   },
   "outputs": [],
   "source": [
    "co2['month'] = [x.month for x in co2.index] "
   ]
  },
  {
   "cell_type": "markdown",
   "id": "irish-raising",
   "metadata": {
    "id": "irish-raising"
   },
   "source": [
    "## 3. Creating the variable year"
   ]
  },
  {
   "cell_type": "code",
   "execution_count": null,
   "id": "thermal-speaker",
   "metadata": {
    "id": "thermal-speaker"
   },
   "outputs": [],
   "source": [
    "co2['year'] = [x.year for x in co2.index] "
   ]
  },
  {
   "cell_type": "markdown",
   "id": "heard-thought",
   "metadata": {
    "id": "heard-thought"
   },
   "source": [
    "## 4. Fitting a Linear Regression with two variables"
   ]
  },
  {
   "cell_type": "code",
   "execution_count": null,
   "id": "delayed-hobby",
   "metadata": {
    "id": "delayed-hobby"
   },
   "outputs": [],
   "source": [
    "# Create X and y objects\n",
    "X = co2[['year', 'month']]\n",
    "y = co2['co2']\n",
    "\n",
    "# Create Train test split\n",
    "from sklearn.model_selection import train_test_split\n",
    "X_train, X_test, y_train, y_test = train_test_split(X, y, test_size=0.20, random_state=12345,shuffle=False)\n",
    "\n",
    "# Fit model\n",
    "from sklearn.linear_model import LinearRegression\n",
    "from sklearn.metrics import r2_score\n",
    "\n",
    "my_lm = LinearRegression()\n",
    "my_lm.fit(X = X_train, y = y_train)\n",
    "\n",
    "train_fcst = my_lm.predict(X_train)\n",
    "test_fcst = my_lm.predict(X_test)\n",
    "\n",
    "train_r2 = r2_score(y_train, train_fcst)\n",
    "test_r2 = r2_score(y_test, test_fcst)\n",
    "\n",
    "print(train_r2, test_r2)\n",
    "\n",
    "# Plot result\n",
    "plt.plot(list(test_fcst), 'green')\n",
    "plt.plot(list(y_test), 'orange')\n",
    "plt.xlabel('Steps into the test set')\n",
    "plt.ylabel('CO2 levels')\n",
    "plt.show()\n"
   ]
  },
  {
   "cell_type": "markdown",
   "id": "4a73ae59",
   "metadata": {},
   "source": [
    "## 5. Testing for Autocorrelation"
   ]
  },
  {
   "cell_type": "markdown",
   "id": "564090be",
   "metadata": {},
   "source": [
    "<div>\n",
    "<img src=\"https://drive.google.com/uc?id=1NUZGbAVJ4Y775xRCjlnw_7-NZi8rkfMt\" width=\"800\"/>\n",
    "</div>"
   ]
  },
  {
   "cell_type": "code",
   "execution_count": null,
   "id": "c43a7429",
   "metadata": {
    "scrolled": true
   },
   "outputs": [],
   "source": [
    "from pandas.plotting import lag_plot\n",
    "samples = data.data.dropna()\n",
    "lag_plot(samples)"
   ]
  },
  {
   "cell_type": "code",
   "execution_count": null,
   "id": "f3ad0ea0",
   "metadata": {},
   "outputs": [],
   "source": [
    "from pandas import DataFrame\n",
    "from pandas import concat\n",
    "\n",
    "values = DataFrame(samples.values)\n",
    "dataframe = concat([values.shift(1), values], axis=1)\n",
    "dataframe.columns = ['t', 't+1']\n",
    "result = dataframe.corr()\n",
    "print(result)"
   ]
  },
  {
   "cell_type": "code",
   "execution_count": null,
   "id": "879e4baa",
   "metadata": {
    "scrolled": true
   },
   "outputs": [],
   "source": [
    "from pandas.plotting import autocorrelation_plot\n",
    "autocorrelation_plot(samples)\n",
    "plt.show()"
   ]
  },
  {
   "cell_type": "code",
   "execution_count": null,
   "id": "aaa2e056",
   "metadata": {},
   "outputs": [],
   "source": [
    "from statsmodels.graphics.tsaplots import plot_acf\n",
    "plot_acf(samples, lags=100)\n",
    "plt.show()"
   ]
  },
  {
   "cell_type": "markdown",
   "id": "statistical-explosion",
   "metadata": {
    "id": "statistical-explosion"
   },
   "source": [
    "## 6. Adding lagged variables into the data"
   ]
  },
  {
   "cell_type": "code",
   "execution_count": null,
   "id": "familiar-columbus",
   "metadata": {
    "id": "familiar-columbus"
   },
   "outputs": [],
   "source": [
    "co2['co2_l1'] = co2['co2'].shift(1)\n",
    "co2['co2_l2'] = co2['co2'].shift(2)\n",
    "co2['co2_l3'] = co2['co2'].shift(3)\n",
    "co2['co2_l4'] = co2['co2'].shift(4)\n",
    "co2['co2_l5'] = co2['co2'].shift(5)\n"
   ]
  },
  {
   "cell_type": "code",
   "execution_count": null,
   "id": "HOOE8uvLGQF4",
   "metadata": {
    "id": "HOOE8uvLGQF4"
   },
   "outputs": [],
   "source": [
    "co2.head(10)"
   ]
  },
  {
   "cell_type": "markdown",
   "id": "solar-moses",
   "metadata": {
    "id": "solar-moses"
   },
   "source": [
    "## 7. Drop missing values"
   ]
  },
  {
   "cell_type": "code",
   "execution_count": null,
   "id": "individual-lightning",
   "metadata": {
    "id": "individual-lightning"
   },
   "outputs": [],
   "source": [
    "co2 = co2.dropna()"
   ]
  },
  {
   "cell_type": "markdown",
   "id": "regional-combination",
   "metadata": {
    "id": "regional-combination"
   },
   "source": [
    "## 8. Fitting the full Linear Regression model"
   ]
  },
  {
   "cell_type": "code",
   "execution_count": null,
   "id": "second-cloud",
   "metadata": {
    "id": "second-cloud",
    "pycharm": {
     "name": "#%%\n"
    }
   },
   "outputs": [],
   "source": [
    "# Create X and y objects\n",
    "X = co2[['year', 'month', 'co2_l1', 'co2_l2', 'co2_l3', 'co2_l4', 'co2_l5']]\n",
    "y = co2['co2']\n",
    "\n",
    "# Train Test Split\n",
    "X_train, X_test, y_train, y_test = train_test_split(X, y, test_size=0.20, random_state=12345,shuffle=False)\n",
    "\n",
    "# Fit the model\n",
    "my_lm = LinearRegression()\n",
    "my_lm.fit(X = X_train, y = y_train)\n",
    "\n",
    "train_fcst = my_lm.predict(X_train)\n",
    "test_fcst = my_lm.predict(X_test)\n",
    "\n",
    "train_r2 = r2_score(y_train, train_fcst)\n",
    "test_r2 = r2_score(y_test, test_fcst)\n",
    "\n",
    "print(train_r2, test_r2)\n",
    "\n",
    "# Plot result\n",
    "plt.plot(list(test_fcst))\n",
    "plt.plot(list(y_test))\n",
    "plt.xlabel('Steps into the test set')\n",
    "plt.ylabel('CO2 levels')\n",
    "plt.show()"
   ]
  },
  {
   "cell_type": "code",
   "execution_count": null,
   "id": "73f1ef4b",
   "metadata": {},
   "outputs": [],
   "source": []
  }
 ],
 "metadata": {
  "colab": {
   "collapsed_sections": [],
   "name": "Copy of Chapter 11 - The Linear Regression.ipynb",
   "provenance": []
  },
  "kernelspec": {
   "display_name": "nb3812",
   "language": "python",
   "name": "nb3812"
  },
  "language_info": {
   "codemirror_mode": {
    "name": "ipython",
    "version": 3
   },
   "file_extension": ".py",
   "mimetype": "text/x-python",
   "name": "python",
   "nbconvert_exporter": "python",
   "pygments_lexer": "ipython3",
   "version": "3.8.12"
  }
 },
 "nbformat": 4,
 "nbformat_minor": 5
}
