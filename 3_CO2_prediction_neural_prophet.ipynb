{
 "cells": [
  {
   "cell_type": "markdown",
   "id": "f13353af",
   "metadata": {},
   "source": [
    "# CO<sub>2</sub> Prediction using Neural Prophet"
   ]
  },
  {
   "cell_type": "markdown",
   "id": "fb127747",
   "metadata": {},
   "source": [
    "<div>\n",
    "<img src=\"https://drive.google.com/uc?id=1H9exJ-a6dF4R4nmc0YR2nxV3MaGETRWx\" width=\"800\"/>\n",
    "</div>"
   ]
  },
  {
   "cell_type": "markdown",
   "id": "1f349706",
   "metadata": {},
   "source": [
    "### Neural Prophet on-line documentation can be found at:\n",
    "\n",
    "**https://neuralprophet.com/html/contents.html**"
   ]
  },
  {
   "cell_type": "markdown",
   "id": "0cd15990",
   "metadata": {},
   "source": [
    "## 1. Importing the data and plotting it"
   ]
  },
  {
   "cell_type": "code",
   "execution_count": null,
   "id": "5b38df3b",
   "metadata": {},
   "outputs": [],
   "source": [
    "import statsmodels.api as sm\n",
    "import pandas as pd\n",
    "import matplotlib.pyplot as plt\n",
    "\n",
    "plt.rcParams['figure.figsize'] = (20, 10)\n",
    "\n",
    "data = sm.datasets.co2.load_pandas()\n",
    "co2 = data.data\n",
    "co2 = co2.dropna()\n",
    "ax = co2.plot()\n",
    "ax.set_ylabel('CO2 level')\n",
    "display(plt.show())"
   ]
  },
  {
   "cell_type": "markdown",
   "id": "40f8d6df",
   "metadata": {},
   "source": [
    "## 2. Clean the data, create datasets for testing and training"
   ]
  },
  {
   "cell_type": "code",
   "execution_count": null,
   "id": "aa561009",
   "metadata": {},
   "outputs": [],
   "source": [
    "y=co2.reset_index(drop=False)\n",
    "y.columns = ['ds', 'y']\n",
    "y.info()"
   ]
  },
  {
   "cell_type": "code",
   "execution_count": null,
   "id": "04065e87",
   "metadata": {},
   "outputs": [],
   "source": [
    "train = y.iloc[:2000,:]\n",
    "test = y.iloc[2000:,:]"
   ]
  },
  {
   "cell_type": "markdown",
   "id": "90fe41a2",
   "metadata": {},
   "source": [
    "## 3. Train Neural Prophet model"
   ]
  },
  {
   "cell_type": "code",
   "execution_count": null,
   "id": "e12d637f",
   "metadata": {},
   "outputs": [],
   "source": [
    "if 'google.colab' in str(get_ipython()):\n",
    "    !pip install git+https://github.com/ourownstory/neural_prophet.git # may take a while\n",
    "    #!pip install neuralprophet # much faster, but may not have the latest upgrades/bugfixes\n",
    "\n",
    "from neuralprophet import NeuralProphet, set_log_level\n",
    "set_log_level(\"ERROR\")"
   ]
  },
  {
   "cell_type": "markdown",
   "id": "9c1a9831",
   "metadata": {},
   "source": [
    "## 4. Run prediction using Prophet model above"
   ]
  },
  {
   "cell_type": "code",
   "execution_count": null,
   "id": "ec8d5600",
   "metadata": {},
   "outputs": [],
   "source": [
    "m = NeuralProphet(\n",
    "    n_lags=5,\n",
    "    weekly_seasonality=False,\n",
    "    learning_rate=0.1,\n",
    "    changepoints_range=0.95,\n",
    "    n_changepoints=30,\n",
    ")\n",
    "metrics = m.fit(train, plot_live_loss=False)"
   ]
  },
  {
   "cell_type": "markdown",
   "id": "f20aafe1",
   "metadata": {},
   "source": [
    "### List of hyper-parameters that need to be specified by the user:\n",
    "**https://neuralprophet.com/html/hyperparameter-selection.html**"
   ]
  },
  {
   "cell_type": "code",
   "execution_count": null,
   "id": "1e2f5460",
   "metadata": {},
   "outputs": [],
   "source": [
    "forecast = m.predict(test)\n",
    "fig = m.plot(forecast, figsize=(20, 12))"
   ]
  },
  {
   "cell_type": "code",
   "execution_count": null,
   "id": "ce98aa97",
   "metadata": {},
   "outputs": [],
   "source": [
    "forecast.head(10)"
   ]
  },
  {
   "cell_type": "code",
   "execution_count": null,
   "id": "3aea7f6a",
   "metadata": {},
   "outputs": [],
   "source": [
    "# fig_comp = m.plot_components(forecast)\n",
    "m = m.highlight_nth_step_ahead_of_each_forecast(1) # temporary workaround to plot actual AR weights\n",
    "fig_param = m.plot_parameters(figsize=(20, 20))"
   ]
  },
  {
   "cell_type": "code",
   "execution_count": null,
   "id": "d4ac1332",
   "metadata": {},
   "outputs": [],
   "source": [
    "from sklearn.metrics import r2_score\n",
    "print(r2_score(list(forecast.loc[5:,'y']), list(forecast.loc[5:,'yhat1'] )))"
   ]
  }
 ],
 "metadata": {
  "kernelspec": {
   "display_name": "nb3712",
   "language": "python",
   "name": "nb3712"
  },
  "language_info": {
   "codemirror_mode": {
    "name": "ipython",
    "version": 3
   },
   "file_extension": ".py",
   "mimetype": "text/x-python",
   "name": "python",
   "nbconvert_exporter": "python",
   "pygments_lexer": "ipython3",
   "version": "3.7.12"
  }
 },
 "nbformat": 4,
 "nbformat_minor": 5
}
