{
 "cells": [
  {
   "cell_type": "markdown",
   "metadata": {},
   "source": [
    "# CO<sub>2</sub> Prediction using Facebook Prophet"
   ]
  },
  {
   "cell_type": "markdown",
   "metadata": {},
   "source": [
    "<div>\n",
    "<img src=\"https://drive.google.com/uc?id=1YxXGZbFQ5qsjXuCGOzVXzx97GuLoWGp2\" width=\"800\"/>\n",
    "</div>"
   ]
  },
  {
   "cell_type": "markdown",
   "metadata": {},
   "source": [
    "### Facebook Prophet on-line documentation can be found at:\n",
    "\n",
    "**https://facebook.github.io/prophet/docs/quick_start.html**"
   ]
  },
  {
   "cell_type": "markdown",
   "metadata": {
    "collapsed": true,
    "pycharm": {
     "name": "#%% md\n"
    }
   },
   "source": [
    "## 1. Importing the data and plotting it"
   ]
  },
  {
   "cell_type": "code",
   "execution_count": null,
   "metadata": {
    "pycharm": {
     "name": "#%%\n"
    }
   },
   "outputs": [],
   "source": [
    "import statsmodels.api as sm\n",
    "import pandas as pd\n",
    "import matplotlib.pyplot as plt\n",
    "pd.set_option('display.max_rows', 10)\n",
    "pd.set_option('display.max_columns', 70)\n",
    "\n",
    "plt.rcParams['figure.figsize'] = (20, 10)\n",
    "\n",
    "data = sm.datasets.co2.load_pandas()\n",
    "co2 = data.data\n",
    "co2 = co2.dropna()\n",
    "ax = co2.plot()\n",
    "ax.set_ylabel('CO2 level')\n",
    "display(plt.show())"
   ]
  },
  {
   "cell_type": "markdown",
   "metadata": {},
   "source": [
    "## 2. Clean the data, create datasets for testing and training"
   ]
  },
  {
   "cell_type": "code",
   "execution_count": null,
   "metadata": {
    "pycharm": {
     "name": "#%%\n"
    }
   },
   "outputs": [],
   "source": [
    "data.data.tail()"
   ]
  },
  {
   "cell_type": "code",
   "execution_count": null,
   "metadata": {
    "pycharm": {
     "name": "#%%\n"
    }
   },
   "outputs": [],
   "source": [
    "y=co2.reset_index(drop=False)\n",
    "#y.columns = ['ds', 'y']\n",
    "y = y.rename(columns={'index':'ds','co2':'y'})\n",
    "y.head()"
   ]
  },
  {
   "cell_type": "code",
   "execution_count": null,
   "metadata": {
    "pycharm": {
     "name": "#%%\n"
    }
   },
   "outputs": [],
   "source": [
    "y.info()"
   ]
  },
  {
   "cell_type": "code",
   "execution_count": null,
   "metadata": {
    "pycharm": {
     "name": "#%%\n"
    }
   },
   "outputs": [],
   "source": [
    "train = y.iloc[:2000,:]\n",
    "test = y.iloc[2000:,:]"
   ]
  },
  {
   "cell_type": "markdown",
   "metadata": {},
   "source": [
    "## 3. Train Prophet model"
   ]
  },
  {
   "cell_type": "code",
   "execution_count": null,
   "metadata": {
    "pycharm": {
     "name": "#%%\n"
    }
   },
   "outputs": [],
   "source": [
    "if 'google.colab' in str(get_ipython()):\n",
    "    from fbprophet import Prophet\n",
    "else:\n",
    "    from prophet import Prophet\n",
    "\n",
    "import os\n",
    "# Define a context manager to suppress stdout and stderr.\n",
    "class suppress_stdout_stderr(object):\n",
    "    '''\n",
    "    A context manager for doing a \"deep suppression\" of stdout and stderr in\n",
    "    Python, i.e. will suppress all print, even if the print originates in a\n",
    "    compiled C/Fortran sub-function.\n",
    "       This will not suppress raised exceptions, since exceptions are printed\n",
    "    to stderr just before a script exits, and after the context manager has\n",
    "    exited (at least, I think that is why it lets exceptions through).\n",
    "\n",
    "    '''\n",
    "    def __init__(self):\n",
    "        # Open a pair of null files\n",
    "        self.null_fds =  [os.open(os.devnull,os.O_RDWR) for x in range(2)]\n",
    "        # Save the actual stdout (1) and stderr (2) file descriptors.\n",
    "        self.save_fds = [os.dup(1), os.dup(2)]\n",
    "\n",
    "    def __enter__(self):\n",
    "        # Assign the null pointers to stdout and stderr.\n",
    "        os.dup2(self.null_fds[0],1)\n",
    "        os.dup2(self.null_fds[1],2)\n",
    "\n",
    "    def __exit__(self, *_):\n",
    "        # Re-assign the real stdout/stderr back to (1) and (2)\n",
    "        os.dup2(self.save_fds[0],1)\n",
    "        os.dup2(self.save_fds[1],2)\n",
    "        # Close all file descriptors\n",
    "        for fd in self.null_fds + self.save_fds:\n",
    "            os.close(fd)\n",
    "\n",
    "with suppress_stdout_stderr():\n",
    "    m = Prophet(interval_width=0.95)\n",
    "    m.fit(train)"
   ]
  },
  {
   "cell_type": "markdown",
   "metadata": {},
   "source": [
    "## 4. Run prediction using Prophet model above"
   ]
  },
  {
   "cell_type": "code",
   "execution_count": null,
   "metadata": {
    "pycharm": {
     "name": "#%%\n"
    }
   },
   "outputs": [],
   "source": [
    "#future = m.make_future_dataframe(periods=len(test), freq=\"W\")\n",
    "future = y.copy()\n",
    "future.drop('y', inplace=True, axis=1)\n",
    "forecast = m.predict(future)"
   ]
  },
  {
   "cell_type": "code",
   "execution_count": null,
   "metadata": {},
   "outputs": [],
   "source": [
    "forecast.head()"
   ]
  },
  {
   "cell_type": "code",
   "execution_count": null,
   "metadata": {},
   "outputs": [],
   "source": [
    "forecast[['ds', 'yhat', 'yhat_lower', 'yhat_upper']].tail()"
   ]
  },
  {
   "cell_type": "code",
   "execution_count": null,
   "metadata": {
    "pycharm": {
     "name": "#%%\n"
    }
   },
   "outputs": [],
   "source": [
    "from sklearn.metrics import r2_score\n",
    "print(r2_score(list(test['y']), list(forecast.loc[2000:,'yhat'] )))"
   ]
  },
  {
   "cell_type": "code",
   "execution_count": null,
   "metadata": {
    "pycharm": {
     "name": "#%%\n"
    }
   },
   "outputs": [],
   "source": [
    "import matplotlib.pyplot as plt\n",
    "plt.rcParams['figure.figsize'] = (20, 10)\n",
    "plt.plot(list(test['y']), 'red')\n",
    "plt.plot(list(forecast.loc[2000:,'yhat']), \"cyan\")\n",
    "plt.show()"
   ]
  },
  {
   "cell_type": "code",
   "execution_count": null,
   "metadata": {
    "pycharm": {
     "name": "#%%\n"
    }
   },
   "outputs": [],
   "source": [
    "if 'google.colab' in str(get_ipython()):\n",
    "    from fbprophet.plot import add_changepoints_to_plot\n",
    "else:\n",
    "    from prophet.plot import add_changepoints_to_plot\n",
    "    \n",
    "#from prophet.plot import plot_plotly, plot_components_plotly\n",
    "\n",
    "#plot_components_plotly(m, forecast)\n",
    "fig1 = m.plot(forecast,  figsize=(20, 12))\n",
    "a = add_changepoints_to_plot(fig1.gca(), m, forecast)"
   ]
  },
  {
   "cell_type": "code",
   "execution_count": null,
   "metadata": {
    "pycharm": {
     "name": "#%%\n"
    }
   },
   "outputs": [],
   "source": [
    "fig2 = m.plot_components(forecast, figsize=(20, 12))\n",
    "plt.show()"
   ]
  },
  {
   "cell_type": "markdown",
   "metadata": {},
   "source": [
    "## 5. Incorporate monthly seasonality"
   ]
  },
  {
   "cell_type": "code",
   "execution_count": null,
   "metadata": {
    "pycharm": {
     "name": "#%%\n"
    }
   },
   "outputs": [],
   "source": [
    "m2 = Prophet(interval_width=0.95)\n",
    "m2.add_seasonality(name='monthly', period=30.5, fourier_order=5)\n",
    "\n",
    "with suppress_stdout_stderr():\n",
    "    m2.fit(train)\n",
    "\n",
    "#future2 = m2.make_future_dataframe(periods=len(test), freq=\"W\")\n",
    "forecast2 = m2.predict(future)\n",
    "print(r2_score(list(test['y']), list(forecast2.loc[2000:,'yhat'] )))\n",
    "\n",
    "fig2 = m2.plot_components(forecast2, figsize=(20, 12))\n",
    "plt.show()"
   ]
  },
  {
   "cell_type": "markdown",
   "metadata": {},
   "source": [
    "## 6. Add regressors to allow for autoregression"
   ]
  },
  {
   "cell_type": "code",
   "execution_count": null,
   "metadata": {
    "pycharm": {
     "name": "#%%\n"
    }
   },
   "outputs": [],
   "source": [
    "yr = y.copy()\n",
    "yr['co2_l1']=yr['y'].shift(1)\n",
    "yr['co2_l2']=yr['y'].shift(2)\n",
    "yr['co2_l3']=yr['y'].shift(3)\n",
    "yr['co2_l4']=yr['y'].shift(4)\n",
    "yr['co2_l5']=yr['y'].shift(5)\n",
    "yr = yr.dropna()\n",
    "yr=yr.reset_index(drop=True)\n",
    "yr.head()"
   ]
  },
  {
   "cell_type": "code",
   "execution_count": null,
   "metadata": {
    "pycharm": {
     "name": "#%%\n"
    }
   },
   "outputs": [],
   "source": [
    "train3 = yr.iloc[:2000,:]\n",
    "test3 = yr.iloc[2000:,:]"
   ]
  },
  {
   "cell_type": "code",
   "execution_count": null,
   "metadata": {
    "pycharm": {
     "name": "#%%\n"
    }
   },
   "outputs": [],
   "source": [
    "m3 = Prophet(interval_width=0.95)\n",
    "m3.add_regressor('co2_l1')\n",
    "m3.add_regressor('co2_l2')\n",
    "m3.add_regressor('co2_l3')\n",
    "m3.add_regressor('co2_l4')\n",
    "m3.add_regressor('co2_l5')\n",
    "\n",
    "with suppress_stdout_stderr():\n",
    "    m3.fit(train3)\n",
    "\n",
    "future3 = yr.copy()\n",
    "future3.drop('y', inplace=True, axis=1)\n",
    "\n",
    "forecast3 = m3.predict(future3)\n",
    "forecast3.tail()"
   ]
  },
  {
   "cell_type": "code",
   "execution_count": null,
   "metadata": {},
   "outputs": [],
   "source": [
    "print(r2_score(list(test3['y']), list(forecast3.loc[2000:,'yhat'] )))\n",
    "\n",
    "plt.plot(list(test3['y']), \"orange\")\n",
    "plt.plot(list(forecast3.loc[2000:,'yhat'] ))\n",
    "\n",
    "fig3 = m3.plot_components(forecast3, figsize=(20, 12))\n",
    "plt.show()\n"
   ]
  },
  {
   "cell_type": "code",
   "execution_count": null,
   "metadata": {
    "pycharm": {
     "name": "#%%\n"
    }
   },
   "outputs": [],
   "source": [
    "fig3 = m3.plot(forecast3,  figsize=(20, 12))\n",
    "a3 = add_changepoints_to_plot(fig3.gca(), m3, forecast3)"
   ]
  },
  {
   "cell_type": "code",
   "execution_count": null,
   "metadata": {},
   "outputs": [],
   "source": []
  }
 ],
 "metadata": {
  "kernelspec": {
   "display_name": "nb3712",
   "language": "python",
   "name": "nb3712"
  },
  "language_info": {
   "codemirror_mode": {
    "name": "ipython",
    "version": 3
   },
   "file_extension": ".py",
   "mimetype": "text/x-python",
   "name": "python",
   "nbconvert_exporter": "python",
   "pygments_lexer": "ipython3",
   "version": "3.7.12"
  }
 },
 "nbformat": 4,
 "nbformat_minor": 1
}
